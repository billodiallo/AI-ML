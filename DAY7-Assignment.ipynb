{
 "cells": [
  {
   "cell_type": "markdown",
   "metadata": {},
   "source": [
    "# Question1"
   ]
  },
  {
   "cell_type": "code",
   "execution_count": 4,
   "metadata": {},
   "outputs": [],
   "source": [
    "file = open(\"expl.txt\",\"w\")\n",
    "file.write(\"Hello Guys hope you are doing well\")\n",
    "file.write(\"\\n thank you all\")\n",
    "file.close()\n"
   ]
  },
  {
   "cell_type": "code",
   "execution_count": 13,
   "metadata": {},
   "outputs": [],
   "source": [
    "file = open(\"expl.txt\",\"a\")\n",
    "file.write(\"\\n see you next time\")\n",
    "file.write(\"\\n you did great\")\n",
    "file.close()"
   ]
  },
  {
   "cell_type": "code",
   "execution_count": 14,
   "metadata": {},
   "outputs": [
    {
     "name": "stdout",
     "output_type": "stream",
     "text": [
      "Hello Guys hope you are doing well\n",
      " thank you all\n",
      " see you next time\n",
      " you did great\n"
     ]
    }
   ],
   "source": [
    "with open(\"expl.txt\") as file:\n",
    "    data = file.read()\n",
    "    print(data)"
   ]
  },
  {
   "cell_type": "code",
   "execution_count": 15,
   "metadata": {},
   "outputs": [],
   "source": [
    "with open(\"expl.txt\") as f:\n",
    "    with open(\"out.txt\", \"w\") as f1:\n",
    "        for line in f:\n",
    "            f1.write(line)"
   ]
  },
  {
   "cell_type": "code",
   "execution_count": 16,
   "metadata": {},
   "outputs": [
    {
     "name": "stdout",
     "output_type": "stream",
     "text": [
      "Hello Guys hope you are doing well\n",
      " thank you all\n",
      " see you next time\n",
      " you did great\n"
     ]
    }
   ],
   "source": [
    "with open(\"out.txt\") as f1:\n",
    "    data = f1.read()\n",
    "    print(data)"
   ]
  },
  {
   "cell_type": "markdown",
   "metadata": {},
   "source": [
    "# Question 2"
   ]
  },
  {
   "cell_type": "code",
   "execution_count": 37,
   "metadata": {},
   "outputs": [
    {
     "name": "stdout",
     "output_type": "stream",
     "text": [
      "Enter the size of the List ::4\n",
      "Enter the Element ::\n",
      "10\n",
      "8\n",
      "95\n",
      "62\n",
      "The maximum is at position: 3\n",
      "The minimum is at position: 2\n"
     ]
    }
   ],
   "source": [
    "def maxminposition(A, n):\n",
    "    minposition = A.index(min(A))\n",
    "    maxposition = A.index(max(A))\n",
    "    print (\"The maximum is at position:\", maxposition + 1) \n",
    "    print (\"The minimum is at position:\", minposition + 1)\n",
    "    \n",
    "A=list()\n",
    "n=int(input(\"Enter the size of the List ::\"))\n",
    "print(\"Enter the Element ::\")\n",
    "for i in range(int(n)):\n",
    "   k=int(input(\"\"))\n",
    "   A.append(k)\n",
    "maxminposition(A,n)\n",
    "\n",
    "\n",
    "\n"
   ]
  },
  {
   "cell_type": "code",
   "execution_count": null,
   "metadata": {},
   "outputs": [],
   "source": [
    "\n"
   ]
  }
 ],
 "metadata": {
  "kernelspec": {
   "display_name": "Python 3",
   "language": "python",
   "name": "python3"
  },
  "language_info": {
   "codemirror_mode": {
    "name": "ipython",
    "version": 3
   },
   "file_extension": ".py",
   "mimetype": "text/x-python",
   "name": "python",
   "nbconvert_exporter": "python",
   "pygments_lexer": "ipython3",
   "version": "3.7.7"
  }
 },
 "nbformat": 4,
 "nbformat_minor": 4
}
