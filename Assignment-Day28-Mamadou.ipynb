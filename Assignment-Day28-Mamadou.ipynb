{
 "cells": [
  {
   "cell_type": "markdown",
   "metadata": {},
   "source": [
    "# QUESTION1\n"
   ]
  },
  {
   "cell_type": "code",
   "execution_count": 7,
   "metadata": {},
   "outputs": [
    {
     "name": "stdout",
     "output_type": "stream",
     "text": [
      "Confusion matrix : \n",
      " [[4 1]\n",
      " [2 3]]\n"
     ]
    }
   ],
   "source": [
    "from sklearn.metrics import confusion_matrix\n",
    "from sklearn.metrics import classification_report\n",
    "\n",
    "\n",
    "\n",
    "\n",
    "#actual values\n",
    "actual = [1,0,1,0,0,1,0,1,1,0]\n",
    "#predicted values\n",
    "predicted = [1,1,1,0,1,0,0,1,1,0]\n",
    "#confusion matrix\n",
    "matrix = confusion_matrix(actual,predicted,labels=[1,0])\n",
    "print('Confusion matrix : \\n',matrix)\n"
   ]
  },
  {
   "cell_type": "markdown",
   "metadata": {},
   "source": [
    "# Question 2\n",
    " # Find out the recall, precision, F1 score and confusion matrix with picture"
   ]
  },
  {
   "cell_type": "code",
   "execution_count": 9,
   "metadata": {},
   "outputs": [
    {
     "name": "stdout",
     "output_type": "stream",
     "text": [
      "0.74\n"
     ]
    }
   ],
   "source": [
    "TP = 42\n",
    "TN = 32\n",
    "FP = 8\n",
    "FN = 18\n",
    "\n",
    "accuracy = (TP +TN)/(TP+TN +FP + FN)\n",
    "print(accuracy)"
   ]
  },
  {
   "cell_type": "markdown",
   "metadata": {},
   "source": [
    "# Recall"
   ]
  },
  {
   "cell_type": "code",
   "execution_count": 10,
   "metadata": {},
   "outputs": [
    {
     "name": "stdout",
     "output_type": "stream",
     "text": [
      "recall: 0.70\n"
     ]
    }
   ],
   "source": [
    "TP = 42\n",
    "FN = 18\n",
    "recall = TP / (TP + FN)\n",
    "print(f\"recall: {recall:4.2f}\")"
   ]
  },
  {
   "cell_type": "markdown",
   "metadata": {},
   "source": [
    "# Precision"
   ]
  },
  {
   "cell_type": "code",
   "execution_count": 12,
   "metadata": {},
   "outputs": [
    {
     "name": "stdout",
     "output_type": "stream",
     "text": [
      "precision: 0.84\n"
     ]
    }
   ],
   "source": [
    "TP = 42\n",
    "FP = 8\n",
    "precision = TP/(TP + FP)\n",
    "print(f\"precision: {precision:4.2f}\")"
   ]
  },
  {
   "cell_type": "markdown",
   "metadata": {},
   "source": [
    "# F1-score"
   ]
  },
  {
   "cell_type": "code",
   "execution_count": 14,
   "metadata": {},
   "outputs": [
    {
     "name": "stdout",
     "output_type": "stream",
     "text": [
      "FN FP TP pre acc recall f1\n",
      "  0.00  0.00 94.00  1.00  1.00  1.00  1.00\n",
      "  1.00  0.00 93.00  1.00  0.99  0.99  0.99\n",
      "  1.00  1.00 92.00  0.99  0.98  0.99  0.99\n",
      "  2.00  0.00 92.00  1.00  0.98  0.98  0.99\n",
      "  2.00  1.00 91.00  0.99  0.98  0.98  0.98\n",
      "  2.00  2.00 90.00  0.98  0.97  0.98  0.98\n",
      "  3.00  0.00 91.00  1.00  0.98  0.97  0.98\n",
      "  3.00  1.00 90.00  0.99  0.97  0.97  0.98\n",
      "  3.00  2.00 89.00  0.98  0.96  0.97  0.97\n",
      "  3.00  3.00 88.00  0.97  0.95  0.97  0.97\n",
      "  4.00  0.00 90.00  1.00  0.97  0.96  0.98\n",
      "  4.00  1.00 89.00  0.99  0.96  0.96  0.97\n",
      "  4.00  2.00 88.00  0.98  0.95  0.96  0.97\n",
      "  4.00  3.00 87.00  0.97  0.94  0.96  0.96\n",
      "  4.00  4.00 86.00  0.96  0.94  0.96  0.96\n",
      "  5.00  0.00 89.00  1.00  0.96  0.95  0.97\n",
      "  5.00  1.00 88.00  0.99  0.95  0.95  0.97\n",
      "  5.00  2.00 87.00  0.98  0.94  0.95  0.96\n",
      "  5.00  3.00 86.00  0.97  0.94  0.95  0.96\n",
      "  5.00  4.00 85.00  0.96  0.93  0.94  0.95\n",
      "  5.00  5.00 84.00  0.94  0.92  0.94  0.94\n",
      "  6.00  0.00 88.00  1.00  0.95  0.94  0.97\n",
      "  6.00  1.00 87.00  0.99  0.94  0.94  0.96\n",
      "  6.00  2.00 86.00  0.98  0.94  0.93  0.96\n",
      "  6.00  3.00 85.00  0.97  0.93  0.93  0.95\n",
      "  6.00  4.00 84.00  0.95  0.92  0.93  0.94\n",
      "  6.00  5.00 83.00  0.94  0.91  0.93  0.94\n",
      "  6.00  6.00 82.00  0.93  0.90  0.93  0.93\n"
     ]
    }
   ],
   "source": [
    "TF = 6\n",
    "print(\"FN FP TP pre acc recall f1\")\n",
    "for FN in range (0,7):\n",
    "    for FP in range(0, FN+1):\n",
    "        # the sum of FN , FP, TF amd TP will be 100:\n",
    "        TP = 100 - FN - FP - TF\n",
    "        precision = TP/(TP + FP)\n",
    "        accuracy = (TP + TN)/ (TP + TN + FP + FN)\n",
    "        recall = TP / (TP + FN)\n",
    "        f1_score = 2 * precision *recall /(precision + recall)\n",
    "        print(f\"{FN:6.2f}{FP:6.2f}{TP:6.2f}\", end=\"\")\n",
    "        print(f\"{precision:6.2f}{accuracy:6.2f}{recall:6.2f}{f1_score:6.2f}\")"
   ]
  },
  {
   "cell_type": "code",
   "execution_count": null,
   "metadata": {},
   "outputs": [],
   "source": []
  }
 ],
 "metadata": {
  "kernelspec": {
   "display_name": "Python 3",
   "language": "python",
   "name": "python3"
  },
  "language_info": {
   "codemirror_mode": {
    "name": "ipython",
    "version": 3
   },
   "file_extension": ".py",
   "mimetype": "text/x-python",
   "name": "python",
   "nbconvert_exporter": "python",
   "pygments_lexer": "ipython3",
   "version": "3.7.7"
  }
 },
 "nbformat": 4,
 "nbformat_minor": 4
}
